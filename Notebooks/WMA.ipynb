{
  "nbformat": 4,
  "nbformat_minor": 0,
  "metadata": {
    "colab": {
      "provenance": []
    },
    "kernelspec": {
      "name": "python3",
      "display_name": "Python 3"
    },
    "language_info": {
      "name": "python"
    }
  },
  "cells": [
    {
      "cell_type": "markdown",
      "source": [
        "**The Weighted Majority Algorithm** <br>\n",
        "The WMA is used when we have a case with $k$ imperfect experts. The optimal approach for the algorithm in that case is to try to match the best expert."
      ],
      "metadata": {
        "id": "_v_g2URWhkKq"
      }
    },
    {
      "cell_type": "code",
      "execution_count": 1,
      "metadata": {
        "colab": {
          "base_uri": "https://localhost:8080/"
        },
        "id": "MunGUIxVhiGq",
        "outputId": "035c151c-3bed-4e62-94b7-257704623543"
      },
      "outputs": [
        {
          "output_type": "stream",
          "name": "stdout",
          "text": [
            "True Label: 0, Predictions: [0, 1, 0], Final Prediction: 1, Weights: [0.4, 0.2, 0.4]\n",
            "True Label: 1, Predictions: [0, 0, 1], Final Prediction: 1, Weights: [0.2857142857142857, 0.14285714285714285, 0.5714285714285714]\n",
            "True Label: 0, Predictions: [0, 1, 1], Final Prediction: 1, Weights: [0.4444444444444445, 0.11111111111111112, 0.4444444444444445]\n",
            "True Label: 0, Predictions: [0, 1, 0], Final Prediction: 1, Weights: [0.4705882352941177, 0.05882352941176471, 0.4705882352941177]\n",
            "True Label: 1, Predictions: [0, 0, 0], Final Prediction: 1, Weights: [0.4705882352941177, 0.05882352941176471, 0.4705882352941177]\n",
            "True Label: 0, Predictions: [0, 0, 0], Final Prediction: 1, Weights: [0.4705882352941177, 0.05882352941176471, 0.4705882352941177]\n",
            "True Label: 0, Predictions: [0, 1, 0], Final Prediction: 1, Weights: [0.48484848484848486, 0.030303030303030304, 0.48484848484848486]\n",
            "True Label: 0, Predictions: [1, 1, 1], Final Prediction: 0, Weights: [0.48484848484848486, 0.030303030303030304, 0.48484848484848486]\n",
            "True Label: 0, Predictions: [0, 1, 1], Final Prediction: 1, Weights: [0.653061224489796, 0.020408163265306124, 0.326530612244898]\n",
            "True Label: 0, Predictions: [1, 0, 0], Final Prediction: 1, Weights: [0.4848484848484848, 0.0303030303030303, 0.4848484848484848]\n"
          ]
        }
      ],
      "source": [
        "import random\n",
        "\n",
        "class WeightedMajority:\n",
        "    def __init__(self, num_experts, learning_rate):\n",
        "        self.num_experts = num_experts\n",
        "        self.weights = [1] * num_experts\n",
        "        self.learning_rate = learning_rate\n",
        "\n",
        "    def predict(self):\n",
        "        # Generate predictions from each expert (for a coin toss, 0 or 1)\n",
        "        predictions = [random.choice([0, 1]) for _ in range(self.num_experts)]\n",
        "\n",
        "        # Calculate the weighted sum of predictions\n",
        "        weighted_sum = sum(w * p for w, p in zip(self.weights, predictions))\n",
        "\n",
        "        # Make the final prediction based on the weighted sum\n",
        "        final_prediction = 1 if weighted_sum > 0 else 0\n",
        "\n",
        "        return final_prediction\n",
        "\n",
        "    def update_weights(self, true_label, predictions):\n",
        "        for i in range(self.num_experts):\n",
        "            if predictions[i] == true_label:\n",
        "                self.weights[i] *= 1\n",
        "            else:\n",
        "                self.weights[i] *= self.learning_rate  # Use the learning rate here\n",
        "\n",
        "        total_weight = sum(self.weights)\n",
        "        self.weights = [w / total_weight for w in self.weights]\n",
        "\n",
        "def simulate(weighted_majority, num_rounds):\n",
        "    # Simulate the online learning process for a given number of rounds\n",
        "    for _ in range(num_rounds):\n",
        "        # True label for the coin toss (0 or 1)\n",
        "        true_label = random.choice([0, 1])\n",
        "\n",
        "        # Get predictions from the experts\n",
        "        predictions = [random.choice([0, 1]) for _ in range(weighted_majority.num_experts)]\n",
        "\n",
        "        # Make the final prediction using the Weighted Majority Algorithm\n",
        "        final_prediction = weighted_majority.predict()\n",
        "\n",
        "        # Update the weights based on the true label and expert predictions\n",
        "        weighted_majority.update_weights(true_label, predictions)\n",
        "\n",
        "        # Print the results for each round\n",
        "        print(f\"True Label: {true_label}, Predictions: {predictions}, Final Prediction: {final_prediction}, Weights: {weighted_majority.weights}\")\n",
        "\n",
        "if __name__ == \"__main__\":\n",
        "    num_experts = 3\n",
        "    num_rounds = 10\n",
        "    learning_rate = 0.5  # Adjust the learning rate as needed\n",
        "    weighted_majority = WeightedMajority(num_experts, learning_rate)\n",
        "    simulate(weighted_majority, num_rounds)\n"
      ]
    }
  ]
}